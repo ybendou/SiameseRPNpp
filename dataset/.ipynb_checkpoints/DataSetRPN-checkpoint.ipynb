{
 "cells": [
  {
   "cell_type": "code",
   "execution_count": 115,
   "metadata": {},
   "outputs": [
    {
     "data": {
      "text/html": [
       "<style>.container { width:90% !important; }</style>"
      ],
      "text/plain": [
       "<IPython.core.display.HTML object>"
      ]
     },
     "metadata": {},
     "output_type": "display_data"
    },
    {
     "name": "stdout",
     "output_type": "stream",
     "text": [
      "The autoreload extension is already loaded. To reload it, use:\n",
      "  %reload_ext autoreload\n"
     ]
    }
   ],
   "source": [
    "from IPython.core.display import display, HTML\n",
    "display(HTML(\"<style>.container { width:90% !important; }</style>\"))\n",
    "\n",
    "%load_ext autoreload\n",
    "%autoreload 2"
   ]
  },
  {
   "cell_type": "code",
   "execution_count": 116,
   "metadata": {},
   "outputs": [],
   "source": [
    "from dataset import TrainDataLoader\n",
    "root = 'D:\\\\datasets\\\\TargetBoxDatasets\\\\YoutubeBoundingBoxes\\\\videos\\\\boudingboxes_detection\\\\frames'\n",
    "\n",
    "dataset = TrainDataLoader(root)\n",
    "ret = dataset.__get__(idx)"
   ]
  },
  {
   "cell_type": "code",
   "execution_count": 117,
   "metadata": {},
   "outputs": [
    {
     "data": {
      "text/plain": [
       "{'tmp_dir': '../tmp/visualization',\n",
       " 'check': False,\n",
       " 'template_img_path': 'D:\\\\datasets\\\\TargetBoxDatasets\\\\YoutubeBoundingBoxes\\\\videos\\\\boudingboxes_detection\\\\frames\\\\AFYM49EJ28o\\\\451000.jpeg',\n",
       " 'detection_img_path': 'D:\\\\datasets\\\\TargetBoxDatasets\\\\YoutubeBoundingBoxes\\\\videos\\\\boudingboxes_detection\\\\frames\\\\AFYM49EJ28o\\\\455000.jpeg',\n",
       " 'template_target_x1y1wh': [108, 93, 36, 94],\n",
       " 'detection_target_x1y1wh': [0, 0, 202, 255],\n",
       " 'template_target_xywh': array([126., 140.,  36.,  94.], dtype=float32),\n",
       " 'detection_target_xywh': array([101., 127., 202., 255.], dtype=float32),\n",
       " 'anchors': array([[  7.      ,   7.      , 109.85125 ,  35.950417],\n",
       "        [  7.      ,   7.      ,  89.50967 ,  44.254833],\n",
       "        [  7.      ,   7.      ,  63.      ,  63.      ],\n",
       "        ...,\n",
       "        [247.      , 247.      ,  63.      ,  63.      ],\n",
       "        [247.      , 247.      ,  44.254833,  89.50967 ],\n",
       "        [247.      , 247.      ,  35.950417, 109.85125 ]], dtype=float32),\n",
       " 'mean_template': (129, 140, 137),\n",
       " 'mean_detection': (113, 125, 119),\n",
       " 'padding': (0, 0, 0, 11),\n",
       " 'new_template_img_padding_size': (255, 266.0),\n",
       " 'new_template_img_padding': <PIL.Image.Image image mode=RGB size=255x266 at 0x18D532167C0>,\n",
       " 'new_detection_img_padding': <PIL.Image.Image image mode=RGB size=255x266 at 0x18D53216FD0>,\n",
       " 'template_cropped': <PIL.Image.Image image mode=RGB size=126x126 at 0x18D50ACA160>,\n",
       " 'detection_cropped': <PIL.Image.Image image mode=RGB size=252x252 at 0x18D50ACA070>,\n",
       " 'detection_tlcords_of_original_image': (0.0, 14.0),\n",
       " 'detection_tlcords_of_padding_image': (0.0, 14.0),\n",
       " 'detection_rbcords_of_padding_image': (252.0, 266.0),\n",
       " 'template_cropped_resized': <PIL.Image.Image image mode=RGB size=127x127 at 0x18D53206EB0>,\n",
       " 'detection_cropped_resized': <PIL.Image.Image image mode=RGB size=256x256 at 0x18D53206F70>,\n",
       " 'template_cropprd_resized_ratio': 1.01,\n",
       " 'detection_cropped_resized_ratio': 1.02,\n",
       " 'target_tlcords_of_padding_image': array([0., 0.], dtype=float32),\n",
       " 'target_rbcords_of_padding_image': array([202., 254.], dtype=float32),\n",
       " 'target_in_detection_x1y1x2y2': array([  0.,   0., 202., 240.], dtype=float32),\n",
       " 'target_in_resized_detection_x1y1x2y2': array([  0,   0, 206, 244]),\n",
       " 'target_in_resized_detection_xywh': array([103, 122, 206, 244]),\n",
       " 'area_target_in_resized_detection': 50264,\n",
       " 'pos_anchors': None,\n",
       " 'pos_neg_diff': array([[-100.        ,    0.87382948,    3.19796085,    0.62870646,\n",
       "            1.91479039],\n",
       "        [-100.        ,    1.07239008,    2.59799933,    0.83346635,\n",
       "            1.70701873],\n",
       "        [-100.        ,    1.52356768,    1.82510722,    1.18463123,\n",
       "            1.35391581],\n",
       "        ...,\n",
       "        [-100.        ,   -2.28535151,   -1.98381209,    1.18463123,\n",
       "            1.35391581],\n",
       "        [-100.        ,   -3.25314689,   -1.3963412 ,    1.53773415,\n",
       "            1.00275075],\n",
       "        [-100.        ,   -4.00440311,   -1.13779879,    1.74550593,\n",
       "            0.79799092]]),\n",
       " 'template_tensor': tensor([[[[ 0.3569,  0.5294,  0.1373,  ..., -0.4510, -0.3255, -0.2863],\n",
       "           [ 0.1922,  0.4431,  0.1137,  ..., -0.3804, -0.2314, -0.2314],\n",
       "           [ 0.1216,  0.3804,  0.0902,  ..., -0.2549, -0.1686, -0.2157],\n",
       "           ...,\n",
       "           [ 0.2157,  0.2314,  0.2235,  ...,  0.1686,  0.0745,  0.0118],\n",
       "           [ 0.2157,  0.2157,  0.2235,  ...,  0.2235,  0.1843,  0.0980],\n",
       "           [ 0.2157,  0.2314,  0.2314,  ...,  0.2157,  0.2471,  0.2078]],\n",
       " \n",
       "          [[ 0.5216,  0.7020,  0.3098,  ..., -0.3333, -0.2078, -0.1843],\n",
       "           [ 0.3412,  0.6157,  0.2863,  ..., -0.2627, -0.1137, -0.1294],\n",
       "           [ 0.2784,  0.5529,  0.2627,  ..., -0.1216, -0.0431, -0.0902],\n",
       "           ...,\n",
       "           [ 0.3098,  0.3176,  0.3098,  ...,  0.2078,  0.1137,  0.0510],\n",
       "           [ 0.3098,  0.3020,  0.3098,  ...,  0.2706,  0.2235,  0.1373],\n",
       "           [ 0.3098,  0.3176,  0.3176,  ...,  0.2627,  0.2863,  0.2471]],\n",
       " \n",
       "          [[ 0.5451,  0.8039,  0.4118,  ..., -0.3882, -0.2627, -0.2549],\n",
       "           [ 0.3725,  0.7020,  0.3882,  ..., -0.3176, -0.1686, -0.2000],\n",
       "           [ 0.2863,  0.6392,  0.3647,  ..., -0.1843, -0.1216, -0.1686],\n",
       "           ...,\n",
       "           [ 0.2784,  0.2863,  0.2784,  ...,  0.1529,  0.0588,  0.0039],\n",
       "           [ 0.2784,  0.2706,  0.2627,  ...,  0.1922,  0.1686,  0.0902],\n",
       "           [ 0.2784,  0.2706,  0.2706,  ...,  0.1843,  0.2314,  0.2000]]]]),\n",
       " 'detection_tensor': tensor([[[[ 0.0588,  0.0431, -0.1686,  ..., -0.5843, -0.6157, -0.6314],\n",
       "           [ 0.0353, -0.0275, -0.1686,  ..., -0.4980, -0.5059, -0.4745],\n",
       "           [ 0.0431, -0.0510, -0.1294,  ..., -0.6235, -0.4039, -0.4431],\n",
       "           ...,\n",
       "           [-0.1137, -0.1137, -0.1137,  ..., -0.1137, -0.1137, -0.1137],\n",
       "           [-0.1137, -0.1137, -0.1137,  ..., -0.1137, -0.1137, -0.1137],\n",
       "           [-0.1137, -0.1137, -0.1137,  ..., -0.1137, -0.1137, -0.1137]],\n",
       " \n",
       "          [[ 0.2314,  0.2235,  0.0039,  ..., -0.4902, -0.5216, -0.5373],\n",
       "           [ 0.2078,  0.1529, -0.0039,  ..., -0.4039, -0.4118, -0.3804],\n",
       "           [ 0.2706,  0.1686,  0.0510,  ..., -0.5294, -0.3176, -0.3569],\n",
       "           ...,\n",
       "           [-0.0196, -0.0196, -0.0196,  ..., -0.0196, -0.0196, -0.0196],\n",
       "           [-0.0196, -0.0196, -0.0196,  ..., -0.0196, -0.0196, -0.0196],\n",
       "           [-0.0196, -0.0196, -0.0196,  ..., -0.0196, -0.0196, -0.0196]],\n",
       " \n",
       "          [[ 0.3961,  0.3647,  0.1373,  ..., -0.5216, -0.5529, -0.5686],\n",
       "           [ 0.3725,  0.2941,  0.1294,  ..., -0.4353, -0.4431, -0.4118],\n",
       "           [ 0.3961,  0.2784,  0.1765,  ..., -0.5608, -0.3490, -0.3882],\n",
       "           ...,\n",
       "           [-0.0667, -0.0667, -0.0667,  ..., -0.0667, -0.0667, -0.0667],\n",
       "           [-0.0667, -0.0667, -0.0667,  ..., -0.0667, -0.0667, -0.0667],\n",
       "           [-0.0667, -0.0667, -0.0667,  ..., -0.0667, -0.0667, -0.0667]]]]),\n",
       " 'pos_neg_diff_tensor': tensor([[-100.0000,    0.8738,    3.1980,    0.6287,    1.9148],\n",
       "         [-100.0000,    1.0724,    2.5980,    0.8335,    1.7070],\n",
       "         [-100.0000,    1.5236,    1.8251,    1.1846,    1.3539],\n",
       "         ...,\n",
       "         [-100.0000,   -2.2854,   -1.9838,    1.1846,    1.3539],\n",
       "         [-100.0000,   -3.2531,   -1.3963,    1.5377,    1.0028],\n",
       "         [-100.0000,   -4.0044,   -1.1378,    1.7455,    0.7980]])}"
      ]
     },
     "execution_count": 117,
     "metadata": {},
     "output_type": "execute_result"
    }
   ],
   "source": [
    "ret"
   ]
  },
  {
   "cell_type": "code",
   "execution_count": null,
   "metadata": {},
   "outputs": [],
   "source": []
  }
 ],
 "metadata": {
  "kernelspec": {
   "display_name": "venv2",
   "language": "python",
   "name": "venv2"
  },
  "language_info": {
   "codemirror_mode": {
    "name": "ipython",
    "version": 3
   },
   "file_extension": ".py",
   "mimetype": "text/x-python",
   "name": "python",
   "nbconvert_exporter": "python",
   "pygments_lexer": "ipython3",
   "version": "3.8.5"
  }
 },
 "nbformat": 4,
 "nbformat_minor": 4
}
